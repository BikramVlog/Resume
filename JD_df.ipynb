{
  "nbformat": 4,
  "nbformat_minor": 0,
  "metadata": {
    "colab": {
      "name": "JD_df.ipynb",
      "provenance": [],
      "collapsed_sections": [],
      "toc_visible": true
    },
    "kernelspec": {
      "name": "python3",
      "display_name": "Python 3"
    }
  },
  "cells": [
    {
      "cell_type": "markdown",
      "metadata": {
        "id": "Cn_gVe1FriqY",
        "colab_type": "text"
      },
      "source": [
        "####**Installing Library**"
      ]
    },
    {
      "cell_type": "code",
      "metadata": {
        "id": "BWL6syz5DDp1",
        "colab_type": "code",
        "colab": {
          "base_uri": "https://localhost:8080/",
          "height": 232
        },
        "outputId": "3e3eb17f-1e65-4c70-e2a8-a8e5bf21616e"
      },
      "source": [
        "!pip install pyresparser #Installing Pyresparser \n",
        "!pip install pyPDF2\n",
        "!pip install docx\n",
        "!pip install python-docx"
      ],
      "execution_count": null,
      "outputs": [
        {
          "output_type": "stream",
          "text": [
            "Collecting python-docx\n",
            "\u001b[?25l  Downloading https://files.pythonhosted.org/packages/e4/83/c66a1934ed5ed8ab1dbb9931f1779079f8bca0f6bbc5793c06c4b5e7d671/python-docx-0.8.10.tar.gz (5.5MB)\n",
            "\u001b[K     |████████████████████████████████| 5.5MB 2.8MB/s \n",
            "\u001b[?25hRequirement already satisfied: lxml>=2.3.2 in /usr/local/lib/python3.6/dist-packages (from python-docx) (4.2.6)\n",
            "Building wheels for collected packages: python-docx\n",
            "  Building wheel for python-docx (setup.py) ... \u001b[?25l\u001b[?25hdone\n",
            "  Created wheel for python-docx: filename=python_docx-0.8.10-cp36-none-any.whl size=184491 sha256=ad86d92c0ff5608dea21aeebd75fc1537612f124c3e73f6e3ba0f7c299c09b62\n",
            "  Stored in directory: /root/.cache/pip/wheels/18/0b/a0/1dd62ff812c857c9e487f27d80d53d2b40531bec1acecfa47b\n",
            "Successfully built python-docx\n",
            "Installing collected packages: python-docx\n",
            "Successfully installed python-docx-0.8.10\n"
          ],
          "name": "stdout"
        }
      ]
    },
    {
      "cell_type": "markdown",
      "metadata": {
        "id": "QILa86C-rWzX",
        "colab_type": "text"
      },
      "source": [
        "####**Importing Libraries**"
      ]
    },
    {
      "cell_type": "code",
      "metadata": {
        "id": "0ATM2HhssVrF",
        "colab_type": "code",
        "colab": {
          "base_uri": "https://localhost:8080/",
          "height": 52
        },
        "outputId": "19081693-d35b-46d6-bb5a-4a65838ff92a"
      },
      "source": [
        "import nltk\n",
        "nltk.download('stopwords')\n",
        "from pyresparser import ResumeParser\n",
        "import os\n",
        "import PyPDF2\n",
        "import docx2txt\n",
        "import pandas as pd\n",
        "from parser import *\n",
        "import sys"
      ],
      "execution_count": 300,
      "outputs": [
        {
          "output_type": "stream",
          "text": [
            "[nltk_data] Downloading package stopwords to /root/nltk_data...\n",
            "[nltk_data]   Package stopwords is already up-to-date!\n"
          ],
          "name": "stderr"
        }
      ]
    },
    {
      "cell_type": "markdown",
      "metadata": {
        "id": "UCV8uSBsxHSq",
        "colab_type": "text"
      },
      "source": [
        "####**Reading JD from Folder Resume**"
      ]
    },
    {
      "cell_type": "code",
      "metadata": {
        "id": "wGyFIU2awRVk",
        "colab_type": "code",
        "colab": {
          "base_uri": "https://localhost:8080/",
          "height": 123
        },
        "outputId": "76cdf036-55e0-4f3e-e095-09825f40907c"
      },
      "source": [
        "#Function to read resumes from the folder one by one\n",
        "mypath='/Resume/Job Description' #enter your path here where you saved the resumes\n",
        "jd_files = [os.path.join(mypath, f) for f in os.listdir(mypath) if os.path.isfile(os.path.join(mypath, f))]\n",
        "jd_files        #Job description(with location name)"
      ],
      "execution_count": 302,
      "outputs": [
        {
          "output_type": "execute_result",
          "data": {
            "text/plain": [
              "['/Resume/Job Description/JD- Orcale JAVA.docx',\n",
              " '/Resume/Job Description/Railway Signalling JD-1.docx',\n",
              " '/Resume/Job Description/Java Production Support SRE - JD.docx',\n",
              " '/Resume/Job Description/MongoDB JD.docx',\n",
              " '/Resume/Job Description/AWS.docx',\n",
              " '/Resume/Job Description/Job Description QE.docx']"
            ]
          },
          "metadata": {
            "tags": []
          },
          "execution_count": 302
        }
      ]
    },
    {
      "cell_type": "markdown",
      "metadata": {
        "id": "hhCutmT7qKQf",
        "colab_type": "text"
      },
      "source": [
        "####**Creating Job Description DataFrame**"
      ]
    },
    {
      "cell_type": "code",
      "metadata": {
        "id": "nhWjgkbGFytB",
        "colab_type": "code",
        "colab": {
          "base_uri": "https://localhost:8080/",
          "height": 354
        },
        "outputId": "fb735b59-ff9f-4b9e-c281-3bdf1d586364"
      },
      "source": [
        "row=0 #intialize that we are in index 0. When skills are fetching from each JD the dataframe row will increase by +1 and dataframe new row added by next JD skills.\n",
        "\n",
        "for jd in jd_files:  #iterating with individual JD froom JD_Files '/Resume/Job Description'.\n",
        "  jd_data = ResumeParser(jd).get_extracted_data()  #extracting with all keys and values from JD and stored in jd_data\n",
        "  \n",
        "  for key in jd_data.keys():\n",
        "    if key=='skills':  #extracting the data where key=skills\n",
        "      skills=jd_data[key]\n",
        "      print(jd_data[key])\n",
        "      skills_in_string = ' '.join(map(str, skills)) # converting skills datatype list to string\n",
        "      \n",
        "      \n",
        "      if row==0:\n",
        "        jd_skills_df = pd.DataFrame([skills_in_string]) \n",
        "                                                              #creating a dataframe and added JD skiils  ex-# row 0- JD1 skills\n",
        "                                                                                                            #  row 1- JD2 skills\n",
        "                                                                                                            #  row 3- JD3 skills....\n",
        "      jd_skills_df[row]=skills_in_string                                                                                                       \n",
        "      row=row+1\n",
        "    \n",
        "jd_skills_df=jd_skills_df.transpose() \n",
        "jd_skills_df     "
      ],
      "execution_count": 303,
      "outputs": [
        {
          "output_type": "stream",
          "text": [
            "['Programming', 'Process', 'Java', 'Sql', 'Debugging', 'Architecture', 'Writing']\n",
            "['Testing', 'Electronics', 'Investigate', 'Safety', 'Specifications', 'Programming', 'Computer science', 'Electrical', 'Engineering', 'Operations', 'Protocols', 'Business stakeholders', 'Interactive', 'Communication', 'Training', 'Standardization', 'Modeling', 'Construction', 'Hardware', 'Autocad', 'Transportation', 'Network design', 'Quality assurance', 'Instrumentation', 'Writing', 'Design', 'Technical', 'Process', 'C++', 'Cad', 'C', 'Improvement', 'System', 'Commissioning', 'Architecture', 'Circuits']\n",
            "['Linux', 'Docker', 'Java', 'Sql', 'Jira', 'Nosql', 'Oracle', 'Github', 'Debugging', 'Python', 'Shell', 'Scripting']\n",
            "['Linux', 'Design', 'Docker', 'Scripting', 'Perl', 'Architecture', 'Nosql', 'Ruby', 'System', 'Shell', 'Queries', 'Database']\n",
            "['Computer science', 'Yaml', 'Engineering', 'Cloud', 'Json', 'Aws', 'Migration']\n",
            "['Javascript', 'Linux', 'Reporting', 'Scripting', 'Selenium', 'Unix', 'Java', 'Windows', 'Html', 'Testing', '.net', 'Oracle', 'Automation', 'Plan', 'System', 'Xml', 'Specifications', 'Database']\n"
          ],
          "name": "stdout"
        },
        {
          "output_type": "execute_result",
          "data": {
            "text/html": [
              "<div>\n",
              "<style scoped>\n",
              "    .dataframe tbody tr th:only-of-type {\n",
              "        vertical-align: middle;\n",
              "    }\n",
              "\n",
              "    .dataframe tbody tr th {\n",
              "        vertical-align: top;\n",
              "    }\n",
              "\n",
              "    .dataframe thead th {\n",
              "        text-align: right;\n",
              "    }\n",
              "</style>\n",
              "<table border=\"1\" class=\"dataframe\">\n",
              "  <thead>\n",
              "    <tr style=\"text-align: right;\">\n",
              "      <th></th>\n",
              "      <th>0</th>\n",
              "    </tr>\n",
              "  </thead>\n",
              "  <tbody>\n",
              "    <tr>\n",
              "      <th>0</th>\n",
              "      <td>Programming Process Java Sql Debugging Archite...</td>\n",
              "    </tr>\n",
              "    <tr>\n",
              "      <th>1</th>\n",
              "      <td>Testing Electronics Investigate Safety Specifi...</td>\n",
              "    </tr>\n",
              "    <tr>\n",
              "      <th>2</th>\n",
              "      <td>Linux Docker Java Sql Jira Nosql Oracle Github...</td>\n",
              "    </tr>\n",
              "    <tr>\n",
              "      <th>3</th>\n",
              "      <td>Linux Design Docker Scripting Perl Architectur...</td>\n",
              "    </tr>\n",
              "    <tr>\n",
              "      <th>4</th>\n",
              "      <td>Computer science Yaml Engineering Cloud Json A...</td>\n",
              "    </tr>\n",
              "    <tr>\n",
              "      <th>5</th>\n",
              "      <td>Javascript Linux Reporting Scripting Selenium ...</td>\n",
              "    </tr>\n",
              "  </tbody>\n",
              "</table>\n",
              "</div>"
            ],
            "text/plain": [
              "                                                   0\n",
              "0  Programming Process Java Sql Debugging Archite...\n",
              "1  Testing Electronics Investigate Safety Specifi...\n",
              "2  Linux Docker Java Sql Jira Nosql Oracle Github...\n",
              "3  Linux Design Docker Scripting Perl Architectur...\n",
              "4  Computer science Yaml Engineering Cloud Json A...\n",
              "5  Javascript Linux Reporting Scripting Selenium ..."
            ]
          },
          "metadata": {
            "tags": []
          },
          "execution_count": 303
        }
      ]
    },
    {
      "cell_type": "markdown",
      "metadata": {
        "id": "LIpV8e36yPST",
        "colab_type": "text"
      },
      "source": [
        "####**Fetching Job Role Name**"
      ]
    },
    {
      "cell_type": "code",
      "metadata": {
        "id": "303QctrGwn4L",
        "colab_type": "code",
        "colab": {
          "base_uri": "https://localhost:8080/",
          "height": 123
        },
        "outputId": "d8161573-66bb-4de8-8d0b-52b04f8a9809"
      },
      "source": [
        "mypath='/Resume/Job Description' #enter your path here where you saved the resumes\n",
        "jd_files_name = [os.path.join(f) for f in os.listdir(mypath) if os.path.isfile(os.path.join(mypath, f))]\n",
        "jd_files_name"
      ],
      "execution_count": 304,
      "outputs": [
        {
          "output_type": "execute_result",
          "data": {
            "text/plain": [
              "['JD- Orcale JAVA.docx',\n",
              " 'Railway Signalling JD-1.docx',\n",
              " 'Java Production Support SRE - JD.docx',\n",
              " 'MongoDB JD.docx',\n",
              " 'AWS.docx',\n",
              " 'Job Description QE.docx']"
            ]
          },
          "metadata": {
            "tags": []
          },
          "execution_count": 304
        }
      ]
    },
    {
      "cell_type": "code",
      "metadata": {
        "id": "Mi70dSdKAN_4",
        "colab_type": "code",
        "colab": {
          "base_uri": "https://localhost:8080/",
          "height": 227
        },
        "outputId": "31035aa9-f546-4c0f-e421-3ea63f3e43af"
      },
      "source": [
        "jd_skills_df['Role']='none'\n",
        "for role in range(len(jd_files_name)):\n",
        "  jd_skills_df['Role'][role]=jd_files_name[role]\n",
        "\n",
        "jd_skills_df  "
      ],
      "execution_count": 305,
      "outputs": [
        {
          "output_type": "execute_result",
          "data": {
            "text/html": [
              "<div>\n",
              "<style scoped>\n",
              "    .dataframe tbody tr th:only-of-type {\n",
              "        vertical-align: middle;\n",
              "    }\n",
              "\n",
              "    .dataframe tbody tr th {\n",
              "        vertical-align: top;\n",
              "    }\n",
              "\n",
              "    .dataframe thead th {\n",
              "        text-align: right;\n",
              "    }\n",
              "</style>\n",
              "<table border=\"1\" class=\"dataframe\">\n",
              "  <thead>\n",
              "    <tr style=\"text-align: right;\">\n",
              "      <th></th>\n",
              "      <th>0</th>\n",
              "      <th>Role</th>\n",
              "    </tr>\n",
              "  </thead>\n",
              "  <tbody>\n",
              "    <tr>\n",
              "      <th>0</th>\n",
              "      <td>Programming Process Java Sql Debugging Archite...</td>\n",
              "      <td>JD- Orcale JAVA.docx</td>\n",
              "    </tr>\n",
              "    <tr>\n",
              "      <th>1</th>\n",
              "      <td>Testing Electronics Investigate Safety Specifi...</td>\n",
              "      <td>Railway Signalling JD-1.docx</td>\n",
              "    </tr>\n",
              "    <tr>\n",
              "      <th>2</th>\n",
              "      <td>Linux Docker Java Sql Jira Nosql Oracle Github...</td>\n",
              "      <td>Java Production Support SRE - JD.docx</td>\n",
              "    </tr>\n",
              "    <tr>\n",
              "      <th>3</th>\n",
              "      <td>Linux Design Docker Scripting Perl Architectur...</td>\n",
              "      <td>MongoDB JD.docx</td>\n",
              "    </tr>\n",
              "    <tr>\n",
              "      <th>4</th>\n",
              "      <td>Computer science Yaml Engineering Cloud Json A...</td>\n",
              "      <td>AWS.docx</td>\n",
              "    </tr>\n",
              "    <tr>\n",
              "      <th>5</th>\n",
              "      <td>Javascript Linux Reporting Scripting Selenium ...</td>\n",
              "      <td>Job Description QE.docx</td>\n",
              "    </tr>\n",
              "  </tbody>\n",
              "</table>\n",
              "</div>"
            ],
            "text/plain": [
              "                                                   0                                   Role\n",
              "0  Programming Process Java Sql Debugging Archite...                   JD- Orcale JAVA.docx\n",
              "1  Testing Electronics Investigate Safety Specifi...           Railway Signalling JD-1.docx\n",
              "2  Linux Docker Java Sql Jira Nosql Oracle Github...  Java Production Support SRE - JD.docx\n",
              "3  Linux Design Docker Scripting Perl Architectur...                        MongoDB JD.docx\n",
              "4  Computer science Yaml Engineering Cloud Json A...                               AWS.docx\n",
              "5  Javascript Linux Reporting Scripting Selenium ...                Job Description QE.docx"
            ]
          },
          "metadata": {
            "tags": []
          },
          "execution_count": 305
        }
      ]
    },
    {
      "cell_type": "code",
      "metadata": {
        "id": "IJ92ujVMOiFG",
        "colab_type": "code",
        "colab": {
          "base_uri": "https://localhost:8080/",
          "height": 227
        },
        "outputId": "65e5f31c-0bc7-4178-f2b0-1eef53bfaaf8"
      },
      "source": [
        "jd_skills_df.columns=['Skills','Role']# Rename the columns\n",
        "jd_skills_df"
      ],
      "execution_count": 306,
      "outputs": [
        {
          "output_type": "execute_result",
          "data": {
            "text/html": [
              "<div>\n",
              "<style scoped>\n",
              "    .dataframe tbody tr th:only-of-type {\n",
              "        vertical-align: middle;\n",
              "    }\n",
              "\n",
              "    .dataframe tbody tr th {\n",
              "        vertical-align: top;\n",
              "    }\n",
              "\n",
              "    .dataframe thead th {\n",
              "        text-align: right;\n",
              "    }\n",
              "</style>\n",
              "<table border=\"1\" class=\"dataframe\">\n",
              "  <thead>\n",
              "    <tr style=\"text-align: right;\">\n",
              "      <th></th>\n",
              "      <th>Skills</th>\n",
              "      <th>Role</th>\n",
              "    </tr>\n",
              "  </thead>\n",
              "  <tbody>\n",
              "    <tr>\n",
              "      <th>0</th>\n",
              "      <td>Programming Process Java Sql Debugging Archite...</td>\n",
              "      <td>JD- Orcale JAVA.docx</td>\n",
              "    </tr>\n",
              "    <tr>\n",
              "      <th>1</th>\n",
              "      <td>Testing Electronics Investigate Safety Specifi...</td>\n",
              "      <td>Railway Signalling JD-1.docx</td>\n",
              "    </tr>\n",
              "    <tr>\n",
              "      <th>2</th>\n",
              "      <td>Linux Docker Java Sql Jira Nosql Oracle Github...</td>\n",
              "      <td>Java Production Support SRE - JD.docx</td>\n",
              "    </tr>\n",
              "    <tr>\n",
              "      <th>3</th>\n",
              "      <td>Linux Design Docker Scripting Perl Architectur...</td>\n",
              "      <td>MongoDB JD.docx</td>\n",
              "    </tr>\n",
              "    <tr>\n",
              "      <th>4</th>\n",
              "      <td>Computer science Yaml Engineering Cloud Json A...</td>\n",
              "      <td>AWS.docx</td>\n",
              "    </tr>\n",
              "    <tr>\n",
              "      <th>5</th>\n",
              "      <td>Javascript Linux Reporting Scripting Selenium ...</td>\n",
              "      <td>Job Description QE.docx</td>\n",
              "    </tr>\n",
              "  </tbody>\n",
              "</table>\n",
              "</div>"
            ],
            "text/plain": [
              "                                              Skills                                   Role\n",
              "0  Programming Process Java Sql Debugging Archite...                   JD- Orcale JAVA.docx\n",
              "1  Testing Electronics Investigate Safety Specifi...           Railway Signalling JD-1.docx\n",
              "2  Linux Docker Java Sql Jira Nosql Oracle Github...  Java Production Support SRE - JD.docx\n",
              "3  Linux Design Docker Scripting Perl Architectur...                        MongoDB JD.docx\n",
              "4  Computer science Yaml Engineering Cloud Json A...                               AWS.docx\n",
              "5  Javascript Linux Reporting Scripting Selenium ...                Job Description QE.docx"
            ]
          },
          "metadata": {
            "tags": []
          },
          "execution_count": 306
        }
      ]
    },
    {
      "cell_type": "code",
      "metadata": {
        "id": "_j6XYeq-Sptm",
        "colab_type": "code",
        "colab": {}
      },
      "source": [
        "jd_skills_df.to_csv('jd_skills_df.csv') #convert into the csv file"
      ],
      "execution_count": 297,
      "outputs": []
    }
  ]
}